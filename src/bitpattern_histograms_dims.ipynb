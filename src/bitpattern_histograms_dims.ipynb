{
 "cells": [
  {
   "cell_type": "code",
   "execution_count": 3,
   "metadata": {
    "scrolled": true
   },
   "outputs": [],
   "source": [
    "using Sherlogs, JLD2, FileIO, BFloat16s, PyPlot"
   ]
  },
  {
   "cell_type": "code",
   "execution_count": 2,
   "metadata": {},
   "outputs": [],
   "source": [
    "include(\"ShallowWaters.jl/src/ShallowWaters.jl\")  # the dimful_operators branch\n",
    "using .ShallowWaters"
   ]
  },
  {
   "cell_type": "code",
   "execution_count": 3,
   "metadata": {},
   "outputs": [
    {
     "name": "stdout",
     "output_type": "stream",
     "text": [
      "Starting ShallowWaters run 0 on Tue, 04 May 2021 13:53:50\n",
      "\u001b[KModel integration will take approximately 29.0s,\n",
      "and is hopefully done on Tue, 04 May 2021 13:54:19\n",
      "\u001b[K1%2%3%4%5%6%7%8%9%10%11%12%13%14%15%16%17%18%19%20%21%22%23%24%25%26%27%28%29%30%31%32%33%34%35%36%37%38%39%40%41%42%43%44%45%46%47%48%49%50%51%52%53%54%55%56%57%58%59%60%61%62%63%64%65%66%67%68%69%70%71%72%73%74%75%76%77%78%79%80%81%82%83%84%85%86%87%88%89%90%91%92%93%94%95%96%97%98%99%100% Integration done in 30.8s.\n",
      "All data stored.\n"
     ]
    }
   ],
   "source": [
    "# spin-up\n",
    "run_model(nx=200,Ndays=1000,output=true,output_dt=240,scale=1,scale_sst=1);"
   ]
  },
  {
   "cell_type": "code",
   "execution_count": 4,
   "metadata": {
    "scrolled": true
   },
   "outputs": [
    {
     "name": "stdout",
     "output_type": "stream",
     "text": [
      "Starting ShallowWaters on Wed, 05 May 2021 17:21:55 without output.\n",
      "\u001b[K100% Integration done in 1min, 28s.\n"
     ]
    }
   ],
   "source": [
    "reset_logbook(1)\n",
    "P_dims = run_model(Sherlog32{BFloat16,1},nx=200,Ndays=200,scale=1,scale_sst=1,\n",
    "    initial_cond=\"ncfile\",init_run_id=0);"
   ]
  },
  {
   "cell_type": "code",
   "execution_count": 11,
   "metadata": {},
   "outputs": [],
   "source": [
    "lb = get_logbook(1)\n",
    "save(\"logbook_bf16_dimful.jld2\",\"lb_f32d\",lb)"
   ]
  },
  {
   "cell_type": "code",
   "execution_count": null,
   "metadata": {},
   "outputs": [],
   "source": []
  }
 ],
 "metadata": {
  "@webio": {
   "lastCommId": null,
   "lastKernelId": null
  },
  "kernelspec": {
   "display_name": "Julia 1.6.0",
   "language": "julia",
   "name": "julia-1.6"
  },
  "language_info": {
   "file_extension": ".jl",
   "mimetype": "application/julia",
   "name": "julia",
   "version": "1.6.0"
  }
 },
 "nbformat": 4,
 "nbformat_minor": 2
}
