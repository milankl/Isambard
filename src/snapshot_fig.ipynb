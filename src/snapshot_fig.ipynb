{
 "cells": [
  {
   "cell_type": "markdown",
   "metadata": {},
   "source": [
    "# Snapshot figure"
   ]
  },
  {
   "cell_type": "code",
   "execution_count": 4,
   "metadata": {
    "scrolled": true
   },
   "outputs": [
    {
     "data": {
      "image/svg+xml": [
       "<?xml version\"1.0\" encoding=\"UTF-8\"?>\n",
       "<!DOCTYPE svg PUBLIC \"-//W3C//DTD SVG 1.1//EN\"\n",
       " \"http://www.w3.org/Graphics/SVG/1.1/DTD/svg11.dtd\">\n",
       "<svg xmlns=\"http://www.w3.org/2000/svg\" version=\"1.1\"\n",
       "     width=\"217.0mm\" height=\"5.5mm\"\n",
       "     shape-rendering=\"crispEdges\">\n",
       "<text x=\"129.0mm\" y=\"3.8mm\" font-size=\"3mm\">cm_2211386828628894356</text><rect x=\"0.0mm\" y=\"0.0mm\" width=\"0.5mm\" height=\"5mm\" fill=\"#9EB0FF\" stroke=\"none\" /><rect x=\"0.5mm\" y=\"0.0mm\" width=\"0.5mm\" height=\"5mm\" fill=\"#9CB0FE\" stroke=\"none\" /><rect x=\"1.0mm\" y=\"0.0mm\" width=\"0.5mm\" height=\"5mm\" fill=\"#9AB0FD\" stroke=\"none\" /><rect x=\"1.5mm\" y=\"0.0mm\" width=\"0.5mm\" height=\"5mm\" fill=\"#98AFFC\" stroke=\"none\" /><rect x=\"2.0mm\" y=\"0.0mm\" width=\"0.5mm\" height=\"5mm\" fill=\"#95AFFB\" stroke=\"none\" /><rect x=\"2.5mm\" y=\"0.0mm\" width=\"0.5mm\" height=\"5mm\" fill=\"#93AFFA\" stroke=\"none\" /><rect x=\"3.0mm\" y=\"0.0mm\" width=\"0.5mm\" height=\"5mm\" fill=\"#91AEF9\" stroke=\"none\" /><rect x=\"3.5mm\" y=\"0.0mm\" width=\"0.5mm\" height=\"5mm\" fill=\"#8EAEF7\" stroke=\"none\" /><rect x=\"4.0mm\" y=\"0.0mm\" width=\"0.5mm\" height=\"5mm\" fill=\"#8CAEF6\" stroke=\"none\" /><rect x=\"4.5mm\" y=\"0.0mm\" width=\"0.5mm\" height=\"5mm\" fill=\"#8AAEF5\" stroke=\"none\" /><rect x=\"5.0mm\" y=\"0.0mm\" width=\"0.5mm\" height=\"5mm\" fill=\"#87ADF4\" stroke=\"none\" /><rect x=\"5.5mm\" y=\"0.0mm\" width=\"0.5mm\" height=\"5mm\" fill=\"#85ADF3\" stroke=\"none\" /><rect x=\"6.0mm\" y=\"0.0mm\" width=\"0.5mm\" height=\"5mm\" fill=\"#82ADF2\" stroke=\"none\" /><rect x=\"6.5mm\" y=\"0.0mm\" width=\"0.5mm\" height=\"5mm\" fill=\"#80ACF1\" stroke=\"none\" /><rect x=\"7.0mm\" y=\"0.0mm\" width=\"0.5mm\" height=\"5mm\" fill=\"#7EACF0\" stroke=\"none\" /><rect x=\"7.5mm\" y=\"0.0mm\" width=\"0.5mm\" height=\"5mm\" fill=\"#7BACEE\" stroke=\"none\" /><rect x=\"8.0mm\" y=\"0.0mm\" width=\"0.5mm\" height=\"5mm\" fill=\"#79ABED\" stroke=\"none\" /><rect x=\"8.5mm\" y=\"0.0mm\" width=\"0.5mm\" height=\"5mm\" fill=\"#76ABEC\" stroke=\"none\" /><rect x=\"9.0mm\" y=\"0.0mm\" width=\"0.5mm\" height=\"5mm\" fill=\"#74AAEB\" stroke=\"none\" /><rect x=\"9.5mm\" y=\"0.0mm\" width=\"0.5mm\" height=\"5mm\" fill=\"#71AAE9\" stroke=\"none\" /><rect x=\"10.0mm\" y=\"0.0mm\" width=\"0.5mm\" height=\"5mm\" fill=\"#6FA9E8\" stroke=\"none\" /><rect x=\"10.5mm\" y=\"0.0mm\" width=\"0.5mm\" height=\"5mm\" fill=\"#6CA9E6\" stroke=\"none\" /><rect x=\"11.0mm\" y=\"0.0mm\" width=\"0.5mm\" height=\"5mm\" fill=\"#6AA8E5\" stroke=\"none\" /><rect x=\"11.5mm\" y=\"0.0mm\" width=\"0.5mm\" height=\"5mm\" fill=\"#67A8E3\" stroke=\"none\" /><rect x=\"12.0mm\" y=\"0.0mm\" width=\"0.5mm\" height=\"5mm\" fill=\"#65A7E2\" stroke=\"none\" /><rect x=\"12.5mm\" y=\"0.0mm\" width=\"0.5mm\" height=\"5mm\" fill=\"#62A6E0\" stroke=\"none\" /><rect x=\"13.0mm\" y=\"0.0mm\" width=\"0.5mm\" height=\"5mm\" fill=\"#60A5DF\" stroke=\"none\" /><rect x=\"13.5mm\" y=\"0.0mm\" width=\"0.5mm\" height=\"5mm\" fill=\"#5DA5DD\" stroke=\"none\" /><rect x=\"14.0mm\" y=\"0.0mm\" width=\"0.5mm\" height=\"5mm\" fill=\"#5BA4DB\" stroke=\"none\" /><rect x=\"14.5mm\" y=\"0.0mm\" width=\"0.5mm\" height=\"5mm\" fill=\"#58A3D9\" stroke=\"none\" /><rect x=\"15.0mm\" y=\"0.0mm\" width=\"0.5mm\" height=\"5mm\" fill=\"#56A2D7\" stroke=\"none\" /><rect x=\"15.5mm\" y=\"0.0mm\" width=\"0.5mm\" height=\"5mm\" fill=\"#54A0D5\" stroke=\"none\" /><rect x=\"16.0mm\" y=\"0.0mm\" width=\"0.5mm\" height=\"5mm\" fill=\"#519FD3\" stroke=\"none\" /><rect x=\"16.5mm\" y=\"0.0mm\" width=\"0.5mm\" height=\"5mm\" fill=\"#4F9ED1\" stroke=\"none\" /><rect x=\"17.0mm\" y=\"0.0mm\" width=\"0.5mm\" height=\"5mm\" fill=\"#4D9DCF\" stroke=\"none\" /><rect x=\"17.5mm\" y=\"0.0mm\" width=\"0.5mm\" height=\"5mm\" fill=\"#4B9BCD\" stroke=\"none\" /><rect x=\"18.0mm\" y=\"0.0mm\" width=\"0.5mm\" height=\"5mm\" fill=\"#489ACA\" stroke=\"none\" /><rect x=\"18.5mm\" y=\"0.0mm\" width=\"0.5mm\" height=\"5mm\" fill=\"#4698C8\" stroke=\"none\" /><rect x=\"19.0mm\" y=\"0.0mm\" width=\"0.5mm\" height=\"5mm\" fill=\"#4497C6\" stroke=\"none\" /><rect x=\"19.5mm\" y=\"0.0mm\" width=\"0.5mm\" height=\"5mm\" fill=\"#4395C3\" stroke=\"none\" /><rect x=\"20.0mm\" y=\"0.0mm\" width=\"0.5mm\" height=\"5mm\" fill=\"#4194C1\" stroke=\"none\" /><rect x=\"20.5mm\" y=\"0.0mm\" width=\"0.5mm\" height=\"5mm\" fill=\"#3F92BE\" stroke=\"none\" /><rect x=\"21.0mm\" y=\"0.0mm\" width=\"0.5mm\" height=\"5mm\" fill=\"#3E90BC\" stroke=\"none\" /><rect x=\"21.5mm\" y=\"0.0mm\" width=\"0.5mm\" height=\"5mm\" fill=\"#3C8EB9\" stroke=\"none\" /><rect x=\"22.0mm\" y=\"0.0mm\" width=\"0.5mm\" height=\"5mm\" fill=\"#3B8DB7\" stroke=\"none\" /><rect x=\"22.5mm\" y=\"0.0mm\" width=\"0.5mm\" height=\"5mm\" fill=\"#398BB4\" stroke=\"none\" /><rect x=\"23.0mm\" y=\"0.0mm\" width=\"0.5mm\" height=\"5mm\" fill=\"#3889B2\" stroke=\"none\" /><rect x=\"23.5mm\" y=\"0.0mm\" width=\"0.5mm\" height=\"5mm\" fill=\"#3787AF\" stroke=\"none\" /><rect x=\"24.0mm\" y=\"0.0mm\" width=\"0.5mm\" height=\"5mm\" fill=\"#3685AD\" stroke=\"none\" /><rect x=\"24.5mm\" y=\"0.0mm\" width=\"0.5mm\" height=\"5mm\" fill=\"#3584AA\" stroke=\"none\" /><rect x=\"25.0mm\" y=\"0.0mm\" width=\"0.5mm\" height=\"5mm\" fill=\"#3382A8\" stroke=\"none\" /><rect x=\"25.5mm\" y=\"0.0mm\" width=\"0.5mm\" height=\"5mm\" fill=\"#3280A6\" stroke=\"none\" /><rect x=\"26.0mm\" y=\"0.0mm\" width=\"0.5mm\" height=\"5mm\" fill=\"#327EA3\" stroke=\"none\" /><rect x=\"26.5mm\" y=\"0.0mm\" width=\"0.5mm\" height=\"5mm\" fill=\"#317CA1\" stroke=\"none\" /><rect x=\"27.0mm\" y=\"0.0mm\" width=\"0.5mm\" height=\"5mm\" fill=\"#307A9E\" stroke=\"none\" /><rect x=\"27.5mm\" y=\"0.0mm\" width=\"0.5mm\" height=\"5mm\" fill=\"#2F789C\" stroke=\"none\" /><rect x=\"28.0mm\" y=\"0.0mm\" width=\"0.5mm\" height=\"5mm\" fill=\"#2E7699\" stroke=\"none\" /><rect x=\"28.5mm\" y=\"0.0mm\" width=\"0.5mm\" height=\"5mm\" fill=\"#2D7597\" stroke=\"none\" /><rect x=\"29.0mm\" y=\"0.0mm\" width=\"0.5mm\" height=\"5mm\" fill=\"#2C7394\" stroke=\"none\" /><rect x=\"29.5mm\" y=\"0.0mm\" width=\"0.5mm\" height=\"5mm\" fill=\"#2C7192\" stroke=\"none\" /><rect x=\"30.0mm\" y=\"0.0mm\" width=\"0.5mm\" height=\"5mm\" fill=\"#2B6F8F\" stroke=\"none\" /><rect x=\"30.5mm\" y=\"0.0mm\" width=\"0.5mm\" height=\"5mm\" fill=\"#2A6D8D\" stroke=\"none\" /><rect x=\"31.0mm\" y=\"0.0mm\" width=\"0.5mm\" height=\"5mm\" fill=\"#296B8B\" stroke=\"none\" /><rect x=\"31.5mm\" y=\"0.0mm\" width=\"0.5mm\" height=\"5mm\" fill=\"#296988\" stroke=\"none\" /><rect x=\"32.0mm\" y=\"0.0mm\" width=\"0.5mm\" height=\"5mm\" fill=\"#286886\" stroke=\"none\" /><rect x=\"32.5mm\" y=\"0.0mm\" width=\"0.5mm\" height=\"5mm\" fill=\"#276683\" stroke=\"none\" /><rect x=\"33.0mm\" y=\"0.0mm\" width=\"0.5mm\" height=\"5mm\" fill=\"#276481\" stroke=\"none\" /><rect x=\"33.5mm\" y=\"0.0mm\" width=\"0.5mm\" height=\"5mm\" fill=\"#26627F\" stroke=\"none\" /><rect x=\"34.0mm\" y=\"0.0mm\" width=\"0.5mm\" height=\"5mm\" fill=\"#25607C\" stroke=\"none\" /><rect x=\"34.5mm\" y=\"0.0mm\" width=\"0.5mm\" height=\"5mm\" fill=\"#245E7A\" stroke=\"none\" /><rect x=\"35.0mm\" y=\"0.0mm\" width=\"0.5mm\" height=\"5mm\" fill=\"#245D78\" stroke=\"none\" /><rect x=\"35.5mm\" y=\"0.0mm\" width=\"0.5mm\" height=\"5mm\" fill=\"#235B75\" stroke=\"none\" /><rect x=\"36.0mm\" y=\"0.0mm\" width=\"0.5mm\" height=\"5mm\" fill=\"#225973\" stroke=\"none\" /><rect x=\"36.5mm\" y=\"0.0mm\" width=\"0.5mm\" height=\"5mm\" fill=\"#225771\" stroke=\"none\" /><rect x=\"37.0mm\" y=\"0.0mm\" width=\"0.5mm\" height=\"5mm\" fill=\"#21556E\" stroke=\"none\" /><rect x=\"37.5mm\" y=\"0.0mm\" width=\"0.5mm\" height=\"5mm\" fill=\"#20546C\" stroke=\"none\" /><rect x=\"38.0mm\" y=\"0.0mm\" width=\"0.5mm\" height=\"5mm\" fill=\"#20526A\" stroke=\"none\" /><rect x=\"38.5mm\" y=\"0.0mm\" width=\"0.5mm\" height=\"5mm\" fill=\"#1F5068\" stroke=\"none\" /><rect x=\"39.0mm\" y=\"0.0mm\" width=\"0.5mm\" height=\"5mm\" fill=\"#1E4E65\" stroke=\"none\" /><rect x=\"39.5mm\" y=\"0.0mm\" width=\"0.5mm\" height=\"5mm\" fill=\"#1E4D63\" stroke=\"none\" /><rect x=\"40.0mm\" y=\"0.0mm\" width=\"0.5mm\" height=\"5mm\" fill=\"#1D4B61\" stroke=\"none\" /><rect x=\"40.5mm\" y=\"0.0mm\" width=\"0.5mm\" height=\"5mm\" fill=\"#1C495F\" stroke=\"none\" /><rect x=\"41.0mm\" y=\"0.0mm\" width=\"0.5mm\" height=\"5mm\" fill=\"#1C475C\" stroke=\"none\" /><rect x=\"41.5mm\" y=\"0.0mm\" width=\"0.5mm\" height=\"5mm\" fill=\"#1B465A\" stroke=\"none\" /><rect x=\"42.0mm\" y=\"0.0mm\" width=\"0.5mm\" height=\"5mm\" fill=\"#1A4458\" stroke=\"none\" /><rect x=\"42.5mm\" y=\"0.0mm\" width=\"0.5mm\" height=\"5mm\" fill=\"#1A4256\" stroke=\"none\" /><rect x=\"43.0mm\" y=\"0.0mm\" width=\"0.5mm\" height=\"5mm\" fill=\"#194153\" stroke=\"none\" /><rect x=\"43.5mm\" y=\"0.0mm\" width=\"0.5mm\" height=\"5mm\" fill=\"#193F51\" stroke=\"none\" /><rect x=\"44.0mm\" y=\"0.0mm\" width=\"0.5mm\" height=\"5mm\" fill=\"#183D4F\" stroke=\"none\" /><rect x=\"44.5mm\" y=\"0.0mm\" width=\"0.5mm\" height=\"5mm\" fill=\"#173C4D\" stroke=\"none\" /><rect x=\"45.0mm\" y=\"0.0mm\" width=\"0.5mm\" height=\"5mm\" fill=\"#173A4B\" stroke=\"none\" /><rect x=\"45.5mm\" y=\"0.0mm\" width=\"0.5mm\" height=\"5mm\" fill=\"#163849\" stroke=\"none\" /><rect x=\"46.0mm\" y=\"0.0mm\" width=\"0.5mm\" height=\"5mm\" fill=\"#163747\" stroke=\"none\" /><rect x=\"46.5mm\" y=\"0.0mm\" width=\"0.5mm\" height=\"5mm\" fill=\"#153544\" stroke=\"none\" /><rect x=\"47.0mm\" y=\"0.0mm\" width=\"0.5mm\" height=\"5mm\" fill=\"#153342\" stroke=\"none\" /><rect x=\"47.5mm\" y=\"0.0mm\" width=\"0.5mm\" height=\"5mm\" fill=\"#143240\" stroke=\"none\" /><rect x=\"48.0mm\" y=\"0.0mm\" width=\"0.5mm\" height=\"5mm\" fill=\"#14303E\" stroke=\"none\" /><rect x=\"48.5mm\" y=\"0.0mm\" width=\"0.5mm\" height=\"5mm\" fill=\"#132F3C\" stroke=\"none\" /><rect x=\"49.0mm\" y=\"0.0mm\" width=\"0.5mm\" height=\"5mm\" fill=\"#132D3A\" stroke=\"none\" /><rect x=\"49.5mm\" y=\"0.0mm\" width=\"0.5mm\" height=\"5mm\" fill=\"#122C38\" stroke=\"none\" /><rect x=\"50.0mm\" y=\"0.0mm\" width=\"0.5mm\" height=\"5mm\" fill=\"#122A36\" stroke=\"none\" /><rect x=\"50.5mm\" y=\"0.0mm\" width=\"0.5mm\" height=\"5mm\" fill=\"#122934\" stroke=\"none\" /><rect x=\"51.0mm\" y=\"0.0mm\" width=\"0.5mm\" height=\"5mm\" fill=\"#112732\" stroke=\"none\" /><rect x=\"51.5mm\" y=\"0.0mm\" width=\"0.5mm\" height=\"5mm\" fill=\"#112630\" stroke=\"none\" /><rect x=\"52.0mm\" y=\"0.0mm\" width=\"0.5mm\" height=\"5mm\" fill=\"#11242E\" stroke=\"none\" /><rect x=\"52.5mm\" y=\"0.0mm\" width=\"0.5mm\" height=\"5mm\" fill=\"#11232C\" stroke=\"none\" /><rect x=\"53.0mm\" y=\"0.0mm\" width=\"0.5mm\" height=\"5mm\" fill=\"#11212A\" stroke=\"none\" /><rect x=\"53.5mm\" y=\"0.0mm\" width=\"0.5mm\" height=\"5mm\" fill=\"#112028\" stroke=\"none\" /><rect x=\"54.0mm\" y=\"0.0mm\" width=\"0.5mm\" height=\"5mm\" fill=\"#101F26\" stroke=\"none\" /><rect x=\"54.5mm\" y=\"0.0mm\" width=\"0.5mm\" height=\"5mm\" fill=\"#101D25\" stroke=\"none\" /><rect x=\"55.0mm\" y=\"0.0mm\" width=\"0.5mm\" height=\"5mm\" fill=\"#101C23\" stroke=\"none\" /><rect x=\"55.5mm\" y=\"0.0mm\" width=\"0.5mm\" height=\"5mm\" fill=\"#111B21\" stroke=\"none\" /><rect x=\"56.0mm\" y=\"0.0mm\" width=\"0.5mm\" height=\"5mm\" fill=\"#111A20\" stroke=\"none\" /><rect x=\"56.5mm\" y=\"0.0mm\" width=\"0.5mm\" height=\"5mm\" fill=\"#11191E\" stroke=\"none\" /><rect x=\"57.0mm\" y=\"0.0mm\" width=\"0.5mm\" height=\"5mm\" fill=\"#11181C\" stroke=\"none\" /><rect x=\"57.5mm\" y=\"0.0mm\" width=\"0.5mm\" height=\"5mm\" fill=\"#11161B\" stroke=\"none\" /><rect x=\"58.0mm\" y=\"0.0mm\" width=\"0.5mm\" height=\"5mm\" fill=\"#111519\" stroke=\"none\" /><rect x=\"58.5mm\" y=\"0.0mm\" width=\"0.5mm\" height=\"5mm\" fill=\"#111418\" stroke=\"none\" /><rect x=\"59.0mm\" y=\"0.0mm\" width=\"0.5mm\" height=\"5mm\" fill=\"#111317\" stroke=\"none\" /><rect x=\"59.5mm\" y=\"0.0mm\" width=\"0.5mm\" height=\"5mm\" fill=\"#121215\" stroke=\"none\" /><rect x=\"60.0mm\" y=\"0.0mm\" width=\"0.5mm\" height=\"5mm\" fill=\"#121214\" stroke=\"none\" /><rect x=\"60.5mm\" y=\"0.0mm\" width=\"0.5mm\" height=\"5mm\" fill=\"#131112\" stroke=\"none\" /><rect x=\"61.0mm\" y=\"0.0mm\" width=\"0.5mm\" height=\"5mm\" fill=\"#141011\" stroke=\"none\" /><rect x=\"61.5mm\" y=\"0.0mm\" width=\"0.5mm\" height=\"5mm\" fill=\"#140F10\" stroke=\"none\" /><rect x=\"62.0mm\" y=\"0.0mm\" width=\"0.5mm\" height=\"5mm\" fill=\"#150E0E\" stroke=\"none\" /><rect x=\"62.5mm\" y=\"0.0mm\" width=\"0.5mm\" height=\"5mm\" fill=\"#160E0D\" stroke=\"none\" /><rect x=\"63.0mm\" y=\"0.0mm\" width=\"0.5mm\" height=\"5mm\" fill=\"#170D0B\" stroke=\"none\" /><rect x=\"63.5mm\" y=\"0.0mm\" width=\"0.5mm\" height=\"5mm\" fill=\"#180C0A\" stroke=\"none\" /><rect x=\"64.0mm\" y=\"0.0mm\" width=\"0.5mm\" height=\"5mm\" fill=\"#190C09\" stroke=\"none\" /><rect x=\"64.5mm\" y=\"0.0mm\" width=\"0.5mm\" height=\"5mm\" fill=\"#1A0C08\" stroke=\"none\" /><rect x=\"65.0mm\" y=\"0.0mm\" width=\"0.5mm\" height=\"5mm\" fill=\"#1B0B07\" stroke=\"none\" /><rect x=\"65.5mm\" y=\"0.0mm\" width=\"0.5mm\" height=\"5mm\" fill=\"#1C0B06\" stroke=\"none\" /><rect x=\"66.0mm\" y=\"0.0mm\" width=\"0.5mm\" height=\"5mm\" fill=\"#1D0B05\" stroke=\"none\" /><rect x=\"66.5mm\" y=\"0.0mm\" width=\"0.5mm\" height=\"5mm\" fill=\"#1E0B04\" stroke=\"none\" /><rect x=\"67.0mm\" y=\"0.0mm\" width=\"0.5mm\" height=\"5mm\" fill=\"#200B04\" stroke=\"none\" /><rect x=\"67.5mm\" y=\"0.0mm\" width=\"0.5mm\" height=\"5mm\" fill=\"#210B03\" stroke=\"none\" /><rect x=\"68.0mm\" y=\"0.0mm\" width=\"0.5mm\" height=\"5mm\" fill=\"#220C02\" stroke=\"none\" /><rect x=\"68.5mm\" y=\"0.0mm\" width=\"0.5mm\" height=\"5mm\" fill=\"#230C02\" stroke=\"none\" /><rect x=\"69.0mm\" y=\"0.0mm\" width=\"0.5mm\" height=\"5mm\" fill=\"#240C02\" stroke=\"none\" /><rect x=\"69.5mm\" y=\"0.0mm\" width=\"0.5mm\" height=\"5mm\" fill=\"#250C01\" stroke=\"none\" /><rect x=\"70.0mm\" y=\"0.0mm\" width=\"0.5mm\" height=\"5mm\" fill=\"#260D01\" stroke=\"none\" /><rect x=\"70.5mm\" y=\"0.0mm\" width=\"0.5mm\" height=\"5mm\" fill=\"#270D01\" stroke=\"none\" /><rect x=\"71.0mm\" y=\"0.0mm\" width=\"0.5mm\" height=\"5mm\" fill=\"#280D01\" stroke=\"none\" /><rect x=\"71.5mm\" y=\"0.0mm\" width=\"0.5mm\" height=\"5mm\" fill=\"#2A0E01\" stroke=\"none\" /><rect x=\"72.0mm\" y=\"0.0mm\" width=\"0.5mm\" height=\"5mm\" fill=\"#2B0E01\" stroke=\"none\" /><rect x=\"72.5mm\" y=\"0.0mm\" width=\"0.5mm\" height=\"5mm\" fill=\"#2C0E00\" stroke=\"none\" /><rect x=\"73.0mm\" y=\"0.0mm\" width=\"0.5mm\" height=\"5mm\" fill=\"#2D0E00\" stroke=\"none\" /><rect x=\"73.5mm\" y=\"0.0mm\" width=\"0.5mm\" height=\"5mm\" fill=\"#2F0E00\" stroke=\"none\" /><rect x=\"74.0mm\" y=\"0.0mm\" width=\"0.5mm\" height=\"5mm\" fill=\"#300F00\" stroke=\"none\" /><rect x=\"74.5mm\" y=\"0.0mm\" width=\"0.5mm\" height=\"5mm\" fill=\"#310F00\" stroke=\"none\" /><rect x=\"75.0mm\" y=\"0.0mm\" width=\"0.5mm\" height=\"5mm\" fill=\"#330F00\" stroke=\"none\" /><rect x=\"75.5mm\" y=\"0.0mm\" width=\"0.5mm\" height=\"5mm\" fill=\"#340F00\" stroke=\"none\" /><rect x=\"76.0mm\" y=\"0.0mm\" width=\"0.5mm\" height=\"5mm\" fill=\"#351000\" stroke=\"none\" /><rect x=\"76.5mm\" y=\"0.0mm\" width=\"0.5mm\" height=\"5mm\" fill=\"#371000\" stroke=\"none\" /><rect x=\"77.0mm\" y=\"0.0mm\" width=\"0.5mm\" height=\"5mm\" fill=\"#381000\" stroke=\"none\" /><rect x=\"77.5mm\" y=\"0.0mm\" width=\"0.5mm\" height=\"5mm\" fill=\"#391100\" stroke=\"none\" /><rect x=\"78.0mm\" y=\"0.0mm\" width=\"0.5mm\" height=\"5mm\" fill=\"#3B1100\" stroke=\"none\" /><rect x=\"78.5mm\" y=\"0.0mm\" width=\"0.5mm\" height=\"5mm\" fill=\"#3C1101\" stroke=\"none\" /><rect x=\"79.0mm\" y=\"0.0mm\" width=\"0.5mm\" height=\"5mm\" fill=\"#3E1201\" stroke=\"none\" /><rect x=\"79.5mm\" y=\"0.0mm\" width=\"0.5mm\" height=\"5mm\" fill=\"#3F1201\" stroke=\"none\" /><rect x=\"80.0mm\" y=\"0.0mm\" width=\"0.5mm\" height=\"5mm\" fill=\"#411201\" stroke=\"none\" /><rect x=\"80.5mm\" y=\"0.0mm\" width=\"0.5mm\" height=\"5mm\" fill=\"#421301\" stroke=\"none\" /><rect x=\"81.0mm\" y=\"0.0mm\" width=\"0.5mm\" height=\"5mm\" fill=\"#441301\" stroke=\"none\" /><rect x=\"81.5mm\" y=\"0.0mm\" width=\"0.5mm\" height=\"5mm\" fill=\"#451401\" stroke=\"none\" /><rect x=\"82.0mm\" y=\"0.0mm\" width=\"0.5mm\" height=\"5mm\" fill=\"#471401\" stroke=\"none\" /><rect x=\"82.5mm\" y=\"0.0mm\" width=\"0.5mm\" height=\"5mm\" fill=\"#481502\" stroke=\"none\" /><rect x=\"83.0mm\" y=\"0.0mm\" width=\"0.5mm\" height=\"5mm\" fill=\"#4A1502\" stroke=\"none\" /><rect x=\"83.5mm\" y=\"0.0mm\" width=\"0.5mm\" height=\"5mm\" fill=\"#4B1602\" stroke=\"none\" /><rect x=\"84.0mm\" y=\"0.0mm\" width=\"0.5mm\" height=\"5mm\" fill=\"#4D1602\" stroke=\"none\" /><rect x=\"84.5mm\" y=\"0.0mm\" width=\"0.5mm\" height=\"5mm\" fill=\"#4F1703\" stroke=\"none\" /><rect x=\"85.0mm\" y=\"0.0mm\" width=\"0.5mm\" height=\"5mm\" fill=\"#501803\" stroke=\"none\" /><rect x=\"85.5mm\" y=\"0.0mm\" width=\"0.5mm\" height=\"5mm\" fill=\"#521804\" stroke=\"none\" /><rect x=\"86.0mm\" y=\"0.0mm\" width=\"0.5mm\" height=\"5mm\" fill=\"#541905\" stroke=\"none\" /><rect x=\"86.5mm\" y=\"0.0mm\" width=\"0.5mm\" height=\"5mm\" fill=\"#561A05\" stroke=\"none\" /><rect x=\"87.0mm\" y=\"0.0mm\" width=\"0.5mm\" height=\"5mm\" fill=\"#571B06\" stroke=\"none\" /><rect x=\"87.5mm\" y=\"0.0mm\" width=\"0.5mm\" height=\"5mm\" fill=\"#591C07\" stroke=\"none\" /><rect x=\"88.0mm\" y=\"0.0mm\" width=\"0.5mm\" height=\"5mm\" fill=\"#5B1D08\" stroke=\"none\" /><rect x=\"88.5mm\" y=\"0.0mm\" width=\"0.5mm\" height=\"5mm\" fill=\"#5D1E09\" stroke=\"none\" /><rect x=\"89.0mm\" y=\"0.0mm\" width=\"0.5mm\" height=\"5mm\" fill=\"#5F1F0A\" stroke=\"none\" /><rect x=\"89.5mm\" y=\"0.0mm\" width=\"0.5mm\" height=\"5mm\" fill=\"#61200B\" stroke=\"none\" /><rect x=\"90.0mm\" y=\"0.0mm\" width=\"0.5mm\" height=\"5mm\" fill=\"#63210C\" stroke=\"none\" /><rect x=\"90.5mm\" y=\"0.0mm\" width=\"0.5mm\" height=\"5mm\" fill=\"#65230E\" stroke=\"none\" /><rect x=\"91.0mm\" y=\"0.0mm\" width=\"0.5mm\" height=\"5mm\" fill=\"#68240F\" stroke=\"none\" /><rect x=\"91.5mm\" y=\"0.0mm\" width=\"0.5mm\" height=\"5mm\" fill=\"#6A2510\" stroke=\"none\" /><rect x=\"92.0mm\" y=\"0.0mm\" width=\"0.5mm\" height=\"5mm\" fill=\"#6C2711\" stroke=\"none\" /><rect x=\"92.5mm\" y=\"0.0mm\" width=\"0.5mm\" height=\"5mm\" fill=\"#6E2813\" stroke=\"none\" /><rect x=\"93.0mm\" y=\"0.0mm\" width=\"0.5mm\" height=\"5mm\" fill=\"#702A14\" stroke=\"none\" /><rect x=\"93.5mm\" y=\"0.0mm\" width=\"0.5mm\" height=\"5mm\" fill=\"#732B16\" stroke=\"none\" /><rect x=\"94.0mm\" y=\"0.0mm\" width=\"0.5mm\" height=\"5mm\" fill=\"#752D17\" stroke=\"none\" /><rect x=\"94.5mm\" y=\"0.0mm\" width=\"0.5mm\" height=\"5mm\" fill=\"#772F19\" stroke=\"none\" /><rect x=\"95.0mm\" y=\"0.0mm\" width=\"0.5mm\" height=\"5mm\" fill=\"#79301B\" stroke=\"none\" /><rect x=\"95.5mm\" y=\"0.0mm\" width=\"0.5mm\" height=\"5mm\" fill=\"#7B321C\" stroke=\"none\" /><rect x=\"96.0mm\" y=\"0.0mm\" width=\"0.5mm\" height=\"5mm\" fill=\"#7D341E\" stroke=\"none\" /><rect x=\"96.5mm\" y=\"0.0mm\" width=\"0.5mm\" height=\"5mm\" fill=\"#803620\" stroke=\"none\" /><rect x=\"97.0mm\" y=\"0.0mm\" width=\"0.5mm\" height=\"5mm\" fill=\"#823722\" stroke=\"none\" /><rect x=\"97.5mm\" y=\"0.0mm\" width=\"0.5mm\" height=\"5mm\" fill=\"#843924\" stroke=\"none\" /><rect x=\"98.0mm\" y=\"0.0mm\" width=\"0.5mm\" height=\"5mm\" fill=\"#863B26\" stroke=\"none\" /><rect x=\"98.5mm\" y=\"0.0mm\" width=\"0.5mm\" height=\"5mm\" fill=\"#883D28\" stroke=\"none\" /><rect x=\"99.0mm\" y=\"0.0mm\" width=\"0.5mm\" height=\"5mm\" fill=\"#8A3F2A\" stroke=\"none\" /><rect x=\"99.5mm\" y=\"0.0mm\" width=\"0.5mm\" height=\"5mm\" fill=\"#8C402C\" stroke=\"none\" /><rect x=\"100.0mm\" y=\"0.0mm\" width=\"0.5mm\" height=\"5mm\" fill=\"#8E422E\" stroke=\"none\" /><rect x=\"100.5mm\" y=\"0.0mm\" width=\"0.5mm\" height=\"5mm\" fill=\"#904430\" stroke=\"none\" /><rect x=\"101.0mm\" y=\"0.0mm\" width=\"0.5mm\" height=\"5mm\" fill=\"#924632\" stroke=\"none\" /><rect x=\"101.5mm\" y=\"0.0mm\" width=\"0.5mm\" height=\"5mm\" fill=\"#944834\" stroke=\"none\" /><rect x=\"102.0mm\" y=\"0.0mm\" width=\"0.5mm\" height=\"5mm\" fill=\"#964A36\" stroke=\"none\" /><rect x=\"102.5mm\" y=\"0.0mm\" width=\"0.5mm\" height=\"5mm\" fill=\"#984C39\" stroke=\"none\" /><rect x=\"103.0mm\" y=\"0.0mm\" width=\"0.5mm\" height=\"5mm\" fill=\"#9A4D3B\" stroke=\"none\" /><rect x=\"103.5mm\" y=\"0.0mm\" width=\"0.5mm\" height=\"5mm\" fill=\"#9C4F3D\" stroke=\"none\" /><rect x=\"104.0mm\" y=\"0.0mm\" width=\"0.5mm\" height=\"5mm\" fill=\"#9E513F\" stroke=\"none\" /><rect x=\"104.5mm\" y=\"0.0mm\" width=\"0.5mm\" height=\"5mm\" fill=\"#A05341\" stroke=\"none\" /><rect x=\"105.0mm\" y=\"0.0mm\" width=\"0.5mm\" height=\"5mm\" fill=\"#A25544\" stroke=\"none\" /><rect x=\"105.5mm\" y=\"0.0mm\" width=\"0.5mm\" height=\"5mm\" fill=\"#A45746\" stroke=\"none\" /><rect x=\"106.0mm\" y=\"0.0mm\" width=\"0.5mm\" height=\"5mm\" fill=\"#A65948\" stroke=\"none\" /><rect x=\"106.5mm\" y=\"0.0mm\" width=\"0.5mm\" height=\"5mm\" fill=\"#A85A4A\" stroke=\"none\" /><rect x=\"107.0mm\" y=\"0.0mm\" width=\"0.5mm\" height=\"5mm\" fill=\"#AA5C4C\" stroke=\"none\" /><rect x=\"107.5mm\" y=\"0.0mm\" width=\"0.5mm\" height=\"5mm\" fill=\"#AC5E4F\" stroke=\"none\" /><rect x=\"108.0mm\" y=\"0.0mm\" width=\"0.5mm\" height=\"5mm\" fill=\"#AE6051\" stroke=\"none\" /><rect x=\"108.5mm\" y=\"0.0mm\" width=\"0.5mm\" height=\"5mm\" fill=\"#B06253\" stroke=\"none\" /><rect x=\"109.0mm\" y=\"0.0mm\" width=\"0.5mm\" height=\"5mm\" fill=\"#B26455\" stroke=\"none\" /><rect x=\"109.5mm\" y=\"0.0mm\" width=\"0.5mm\" height=\"5mm\" fill=\"#B46658\" stroke=\"none\" /><rect x=\"110.0mm\" y=\"0.0mm\" width=\"0.5mm\" height=\"5mm\" fill=\"#B6685A\" stroke=\"none\" /><rect x=\"110.5mm\" y=\"0.0mm\" width=\"0.5mm\" height=\"5mm\" fill=\"#B86A5C\" stroke=\"none\" /><rect x=\"111.0mm\" y=\"0.0mm\" width=\"0.5mm\" height=\"5mm\" fill=\"#BA6B5F\" stroke=\"none\" /><rect x=\"111.5mm\" y=\"0.0mm\" width=\"0.5mm\" height=\"5mm\" fill=\"#BC6D61\" stroke=\"none\" /><rect x=\"112.0mm\" y=\"0.0mm\" width=\"0.5mm\" height=\"5mm\" fill=\"#BE6F63\" stroke=\"none\" /><rect x=\"112.5mm\" y=\"0.0mm\" width=\"0.5mm\" height=\"5mm\" fill=\"#C07165\" stroke=\"none\" /><rect x=\"113.0mm\" y=\"0.0mm\" width=\"0.5mm\" height=\"5mm\" fill=\"#C27368\" stroke=\"none\" /><rect x=\"113.5mm\" y=\"0.0mm\" width=\"0.5mm\" height=\"5mm\" fill=\"#C4756A\" stroke=\"none\" /><rect x=\"114.0mm\" y=\"0.0mm\" width=\"0.5mm\" height=\"5mm\" fill=\"#C6776C\" stroke=\"none\" /><rect x=\"114.5mm\" y=\"0.0mm\" width=\"0.5mm\" height=\"5mm\" fill=\"#C8796F\" stroke=\"none\" /><rect x=\"115.0mm\" y=\"0.0mm\" width=\"0.5mm\" height=\"5mm\" fill=\"#CA7B71\" stroke=\"none\" /><rect x=\"115.5mm\" y=\"0.0mm\" width=\"0.5mm\" height=\"5mm\" fill=\"#CC7D73\" stroke=\"none\" /><rect x=\"116.0mm\" y=\"0.0mm\" width=\"0.5mm\" height=\"5mm\" fill=\"#CE7F76\" stroke=\"none\" /><rect x=\"116.5mm\" y=\"0.0mm\" width=\"0.5mm\" height=\"5mm\" fill=\"#D08178\" stroke=\"none\" /><rect x=\"117.0mm\" y=\"0.0mm\" width=\"0.5mm\" height=\"5mm\" fill=\"#D2837A\" stroke=\"none\" /><rect x=\"117.5mm\" y=\"0.0mm\" width=\"0.5mm\" height=\"5mm\" fill=\"#D5857D\" stroke=\"none\" /><rect x=\"118.0mm\" y=\"0.0mm\" width=\"0.5mm\" height=\"5mm\" fill=\"#D7877F\" stroke=\"none\" /><rect x=\"118.5mm\" y=\"0.0mm\" width=\"0.5mm\" height=\"5mm\" fill=\"#D98982\" stroke=\"none\" /><rect x=\"119.0mm\" y=\"0.0mm\" width=\"0.5mm\" height=\"5mm\" fill=\"#DB8B84\" stroke=\"none\" /><rect x=\"119.5mm\" y=\"0.0mm\" width=\"0.5mm\" height=\"5mm\" fill=\"#DD8D86\" stroke=\"none\" /><rect x=\"120.0mm\" y=\"0.0mm\" width=\"0.5mm\" height=\"5mm\" fill=\"#DF8F89\" stroke=\"none\" /><rect x=\"120.5mm\" y=\"0.0mm\" width=\"0.5mm\" height=\"5mm\" fill=\"#E1918B\" stroke=\"none\" /><rect x=\"121.0mm\" y=\"0.0mm\" width=\"0.5mm\" height=\"5mm\" fill=\"#E3938E\" stroke=\"none\" /><rect x=\"121.5mm\" y=\"0.0mm\" width=\"0.5mm\" height=\"5mm\" fill=\"#E59590\" stroke=\"none\" /><rect x=\"122.0mm\" y=\"0.0mm\" width=\"0.5mm\" height=\"5mm\" fill=\"#E79792\" stroke=\"none\" /><rect x=\"122.5mm\" y=\"0.0mm\" width=\"0.5mm\" height=\"5mm\" fill=\"#EA9995\" stroke=\"none\" /><rect x=\"123.0mm\" y=\"0.0mm\" width=\"0.5mm\" height=\"5mm\" fill=\"#EC9B97\" stroke=\"none\" /><rect x=\"123.5mm\" y=\"0.0mm\" width=\"0.5mm\" height=\"5mm\" fill=\"#EE9D9A\" stroke=\"none\" /><rect x=\"124.0mm\" y=\"0.0mm\" width=\"0.5mm\" height=\"5mm\" fill=\"#F09F9C\" stroke=\"none\" /><rect x=\"124.5mm\" y=\"0.0mm\" width=\"0.5mm\" height=\"5mm\" fill=\"#F2A19F\" stroke=\"none\" /><rect x=\"125.0mm\" y=\"0.0mm\" width=\"0.5mm\" height=\"5mm\" fill=\"#F4A3A1\" stroke=\"none\" /><rect x=\"125.5mm\" y=\"0.0mm\" width=\"0.5mm\" height=\"5mm\" fill=\"#F6A5A3\" stroke=\"none\" /><rect x=\"126.0mm\" y=\"0.0mm\" width=\"0.5mm\" height=\"5mm\" fill=\"#F9A7A6\" stroke=\"none\" /><rect x=\"126.5mm\" y=\"0.0mm\" width=\"0.5mm\" height=\"5mm\" fill=\"#FBA9A8\" stroke=\"none\" /><rect x=\"127.0mm\" y=\"0.0mm\" width=\"0.5mm\" height=\"5mm\" fill=\"#FDABAB\" stroke=\"none\" /><rect x=\"127.5mm\" y=\"0.0mm\" width=\"0.5mm\" height=\"5mm\" fill=\"#FFADAD\" stroke=\"none\" /></svg>"
      ],
      "text/plain": [
       "ColorMap \"cm_2211386828628894356\""
      ]
     },
     "execution_count": 4,
     "metadata": {},
     "output_type": "execute_result"
    }
   ],
   "source": [
    "using NetCDF, PyPlot, ColorSchemes, Printf, Statistics, StatsBase\n",
    "cmap = ColorMap(ColorSchemes.berlin.colors)"
   ]
  },
  {
   "cell_type": "code",
   "execution_count": 5,
   "metadata": {},
   "outputs": [
    {
     "data": {
      "text/plain": [
       "Disk Array with size 3000 x 1500 x 302\n"
      ]
     },
     "execution_count": 5,
     "metadata": {},
     "output_type": "execute_result"
    }
   ],
   "source": [
    "path = \"/network/aopp/chaos/pred/kloewer/shallowwaters/isambard/\"\n",
    "ncfile = NetCDF.open(joinpath(path,\"run0002\",\"sst.nc\"))\n",
    "sst16 = ncfile.vars[\"sst\"]     # Float16 with compensated time integration"
   ]
  },
  {
   "cell_type": "code",
   "execution_count": 6,
   "metadata": {},
   "outputs": [
    {
     "data": {
      "text/plain": [
       "Disk Array with size 3000 x 1500 x 302\n"
      ]
     },
     "execution_count": 6,
     "metadata": {},
     "output_type": "execute_result"
    }
   ],
   "source": [
    "ncfile = NetCDF.open(joinpath(path,\"run0004\",\"sst.nc\"))\n",
    "sst64 = ncfile.vars[\"sst\"]     # Float64"
   ]
  },
  {
   "cell_type": "code",
   "execution_count": 9,
   "metadata": {},
   "outputs": [],
   "source": [
    "for tstep in [200]\n",
    "    \n",
    "    sst64_i = sst64[:,:,tstep]\n",
    "    sst16_i = sst16[:,:,tstep]\n",
    "    \n",
    "    fig,(ax1,ax2) = subplots(2,1,figsize=(8,9),sharex=true,sharey=true,dpi=200)\n",
    "\n",
    "    tight_layout(rect=[-0.03,0.04,1,0.98])\n",
    "    pos = ax2.get_position()\n",
    "    cax = fig.add_axes([pos.x0,pos.y0-0.02,pos.x1-pos.x0,0.015])\n",
    "\n",
    "    ax1.pcolormesh(sst64_i',cmap=cmap,vmin=-1,vmax=1,rasterized=true)\n",
    "    q = ax2.pcolormesh(sst16_i',cmap=cmap,vmin=-1,vmax=1,rasterized=true)\n",
    "\n",
    "    cb = colorbar(q,cax=cax,orientation=\"horizontal\")\n",
    "    cb.set_label(\"Tracer concentration\")\n",
    "    cb.set_ticks([-1,-0.5,0,0.5,1])\n",
    "\n",
    "    ax1.set_xticks([])\n",
    "    ax1.set_yticks([])\n",
    "    ax1.set_title(\"Float64 simulation\",loc=\"left\")\n",
    "    ax2.set_title(\"Float16 simulation\",loc=\"left\")\n",
    "    \n",
    "    ax1.set_title(\"a\",loc=\"right\",fontweight=\"bold\")\n",
    "    ax2.set_title(\"b\",loc=\"right\",fontweight=\"bold\")\n",
    "\n",
    "    i = @sprintf(\"%04d\",tstep-1)\n",
    "    savefig(\"frames/frame_hr_$i.pdf\")\n",
    "    close(fig)\n",
    "end"
   ]
  },
  {
   "cell_type": "code",
   "execution_count": null,
   "metadata": {},
   "outputs": [],
   "source": []
  }
 ],
 "metadata": {
  "@webio": {
   "lastCommId": null,
   "lastKernelId": null
  },
  "kernelspec": {
   "display_name": "Julia 1.6.0",
   "language": "julia",
   "name": "julia-1.6"
  },
  "language_info": {
   "file_extension": ".jl",
   "mimetype": "application/julia",
   "name": "julia",
   "version": "1.6.0"
  }
 },
 "nbformat": 4,
 "nbformat_minor": 2
}
