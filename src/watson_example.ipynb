{
 "cells": [
  {
   "cell_type": "markdown",
   "metadata": {},
   "source": [
    "# DrWatson example"
   ]
  },
  {
   "cell_type": "code",
   "execution_count": 1,
   "metadata": {},
   "outputs": [],
   "source": [
    "using Sherlogs, ShallowWaters"
   ]
  },
  {
   "cell_type": "code",
   "execution_count": 11,
   "metadata": {},
   "outputs": [
    {
     "name": "stdout",
     "output_type": "stream",
     "text": [
      "Starting ShallowWaters run 1 on Thu, 06 May 2021 18:54:27\n",
      "\u001b[KModel integration will take approximately 1.00s,\n",
      "and is hopefully done on Thu, 06 May 2021 18:54:30\n",
      "\u001b[K100% Integration done in 2.37s.\n",
      "All data stored.\n"
     ]
    }
   ],
   "source": [
    "#run_model(output=true);"
   ]
  },
  {
   "cell_type": "code",
   "execution_count": 2,
   "metadata": {},
   "outputs": [
    {
     "name": "stdout",
     "output_type": "stream",
     "text": [
      "Starting ShallowWaters on Wed, 26 May 2021 12:01:59 without output.\n"
     ]
    },
    {
     "name": "stderr",
     "output_type": "stream",
     "text": [
      "┌ Warning: DrWatson reached 10000, the maximum number of stackframes.\n",
      "└ @ Sherlogs /home/kloewer/.julia/packages/Sherlogs/CwhmG/src/stacktraces.jl:10\n",
      "┌ Warning: DrWatson reached 10000, the maximum number of stackframes.\n",
      "└ @ Sherlogs /home/kloewer/.julia/packages/Sherlogs/CwhmG/src/stacktraces.jl:10\n"
     ]
    },
    {
     "ename": "LoadError",
     "evalue": "InterruptException:",
     "output_type": "error",
     "traceback": [
      "InterruptException:",
      "",
      "Stacktrace:",
      "  [1] lookup(pointer::Ptr{Nothing})",
      "    @ Base.StackTraces ./stacktraces.jl:107",
      "  [2] stacktrace(trace::Vector{Union{Ptr{Nothing}, Base.InterpreterIP}}, c_funcs::Bool)",
      "    @ Base.StackTraces ./stacktraces.jl:163",
      "  [3] stacktrace",
      "    @ ./stacktraces.jl:174 [inlined]",
      "  [4] scent(f::typeof(f), r::Float64)",
      "    @ Sherlogs ~/.julia/packages/Sherlogs/CwhmG/src/stacktraces.jl:5",
      "  [5] *",
      "    @ ~/.julia/packages/Sherlogs/CwhmG/src/DrWatson64.jl:52 [inlined]",
      "  [6] axb!(a::Matrix{DrWatson64{f}}, x::DrWatson64{f}, b::Matrix{DrWatson64{f}})",
      "    @ ShallowWaters ~/.julia/packages/ShallowWaters/sav6F/src/time_integration.jl:307",
      "  [7] time_integration(Prog::ShallowWaters.PrognosticVars{DrWatson64{f}}, Diag::ShallowWaters.DiagnosticVars{DrWatson64{f}, DrWatson64{f}}, S::ShallowWaters.ModelSetup{DrWatson64{f}, DrWatson64{f}})",
      "    @ ShallowWaters ~/.julia/packages/ShallowWaters/sav6F/src/time_integration.jl:91",
      "  [8] run_model(#unused#::Type{DrWatson64{f}}, P::Parameter)",
      "    @ ShallowWaters ~/.julia/packages/ShallowWaters/sav6F/src/run_model.jl:37",
      "  [9] #run_model#57",
      "    @ ~/.julia/packages/ShallowWaters/sav6F/src/run_model.jl:17 [inlined]",
      " [10] top-level scope",
      "    @ In[2]:2",
      " [11] eval",
      "    @ ./boot.jl:360 [inlined]",
      " [12] include_string(mapexpr::typeof(REPL.softscope), mod::Module, code::String, filename::String)",
      "    @ Base ./loading.jl:1094"
     ]
    }
   ],
   "source": [
    "f(x) = 0 < abs(x) < floatmin(Float16)\n",
    "run_model(DrWatson64{f},initial_cond=\"ncfile\",init_run_id=1,scale=1,scale_sst=1)"
   ]
  },
  {
   "cell_type": "code",
   "execution_count": 3,
   "metadata": {},
   "outputs": [
    {
     "data": {
      "text/plain": [
       "3×827 Matrix{Base.StackTraces.StackFrame}:\n",
       " * at DrWatson64.jl:52 [inlined]                                                                                                                                                               …  * at DrWatson64.jl:52 [inlined]\n",
       " caxb!(c::\u001b[0mMatrix{DrWatson64{f}}, a::\u001b[0mMatrix{DrWatson64{f}}, x::\u001b[0mDrWatson64{f}, b::\u001b[0mMatrix{DrWatson64{f}}) at time_integration.jl:320                                                 axb!(a::\u001b[0mMatrix{DrWatson64{f}}, x::\u001b[0mDrWatson64{f}, b::\u001b[0mMatrix{DrWatson64{f}}) at time_integration.jl:307\n",
       " time_integration(Prog::\u001b[0mPrognosticVars{DrWatson64{f}}, Diag::\u001b[0mDiagnosticVars{DrWatson64{f}, DrWatson64{f}}, S::\u001b[0mModelSetup{DrWatson64{f}, DrWatson64{f}}) at time_integration.jl:82     time_integration(Prog::\u001b[0mPrognosticVars{DrWatson64{f}}, Diag::\u001b[0mDiagnosticVars{DrWatson64{f}, DrWatson64{f}}, S::\u001b[0mModelSetup{DrWatson64{f}, DrWatson64{f}}) at time_integration.jl:91"
      ]
     },
     "execution_count": 3,
     "metadata": {},
     "output_type": "execute_result"
    }
   ],
   "source": [
    "stacktraces = get_stacktraces()"
   ]
  },
  {
   "cell_type": "code",
   "execution_count": 4,
   "metadata": {},
   "outputs": [
    {
     "data": {
      "text/plain": [
       "3-element Vector{Base.StackTraces.StackFrame}:\n",
       " * at DrWatson64.jl:52 [inlined]\n",
       " caxb!(c::\u001b[0mMatrix{DrWatson64{f}}, a::\u001b[0mMatrix{DrWatson64{f}}, x::\u001b[0mDrWatson64{f}, b::\u001b[0mMatrix{DrWatson64{f}}) at time_integration.jl:320\n",
       " time_integration(Prog::\u001b[0mShallowWaters.PrognosticVars{DrWatson64{f}}, Diag::\u001b[0mShallowWaters.DiagnosticVars{DrWatson64{f}, DrWatson64{f}}, S::\u001b[0mShallowWaters.ModelSetup{DrWatson64{f}, DrWatson64{f}}) at time_integration.jl:82"
      ]
     },
     "execution_count": 4,
     "metadata": {},
     "output_type": "execute_result"
    }
   ],
   "source": [
    "stacktraces[:,1]"
   ]
  },
  {
   "cell_type": "code",
   "execution_count": null,
   "metadata": {},
   "outputs": [],
   "source": []
  }
 ],
 "metadata": {
  "@webio": {
   "lastCommId": null,
   "lastKernelId": null
  },
  "kernelspec": {
   "display_name": "Julia 1.6.0-rc2",
   "language": "julia",
   "name": "julia-1.6"
  },
  "language_info": {
   "file_extension": ".jl",
   "mimetype": "application/julia",
   "name": "julia",
   "version": "1.6.0"
  }
 },
 "nbformat": 4,
 "nbformat_minor": 2
}
